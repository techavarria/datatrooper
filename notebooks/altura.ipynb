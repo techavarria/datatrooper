{
 "cells": [
  {
   "cell_type": "code",
   "execution_count": 6,
   "metadata": {},
   "outputs": [],
   "source": [
    "import pandas as pd\n",
    "import matplotlib as mpl\n",
    "import seaborn as sns\n",
    "import matplotlib.pyplot as plt\n",
    "import pycountry\n",
    "from pprint import pprint\n",
    "from plotly.offline import download_plotlyjs, init_notebook_mode, plot, iplot\n",
    "import plotly.graph_objs as go\n",
    "import plotly\n",
    "import numpy as np\n",
    "\n",
    "\n",
    "sns.set_context(\"talk\")\n",
    "plt.style.use('ggplot')\n",
    "mpl.rcParams['axes.labelpad']='20'"
   ]
  },
  {
   "cell_type": "code",
   "execution_count": 7,
   "metadata": {},
   "outputs": [],
   "source": [
    "df = pd.read_csv(\"../datos/altura_2016.csv\")"
   ]
  },
  {
   "cell_type": "code",
   "execution_count": 8,
   "metadata": {
    "scrolled": true
   },
   "outputs": [
    {
     "data": {
      "text/html": [
       "<div>\n",
       "<style scoped>\n",
       "    .dataframe tbody tr th:only-of-type {\n",
       "        vertical-align: middle;\n",
       "    }\n",
       "\n",
       "    .dataframe tbody tr th {\n",
       "        vertical-align: top;\n",
       "    }\n",
       "\n",
       "    .dataframe thead th {\n",
       "        text-align: right;\n",
       "    }\n",
       "</style>\n",
       "<table border=\"1\" class=\"dataframe\">\n",
       "  <thead>\n",
       "    <tr style=\"text-align: right;\">\n",
       "      <th></th>\n",
       "      <th>Country</th>\n",
       "      <th>Year of birth</th>\n",
       "      <th>Sex</th>\n",
       "      <th>altura</th>\n",
       "    </tr>\n",
       "  </thead>\n",
       "  <tbody>\n",
       "    <tr>\n",
       "      <th>0</th>\n",
       "      <td>Afghanistan</td>\n",
       "      <td>1896</td>\n",
       "      <td>Men</td>\n",
       "      <td>161.164095</td>\n",
       "    </tr>\n",
       "    <tr>\n",
       "      <th>1</th>\n",
       "      <td>Afghanistan</td>\n",
       "      <td>1897</td>\n",
       "      <td>Men</td>\n",
       "      <td>161.196286</td>\n",
       "    </tr>\n",
       "    <tr>\n",
       "      <th>2</th>\n",
       "      <td>Afghanistan</td>\n",
       "      <td>1898</td>\n",
       "      <td>Men</td>\n",
       "      <td>161.228297</td>\n",
       "    </tr>\n",
       "    <tr>\n",
       "      <th>3</th>\n",
       "      <td>Afghanistan</td>\n",
       "      <td>1899</td>\n",
       "      <td>Men</td>\n",
       "      <td>161.260727</td>\n",
       "    </tr>\n",
       "    <tr>\n",
       "      <th>4</th>\n",
       "      <td>Afghanistan</td>\n",
       "      <td>1900</td>\n",
       "      <td>Men</td>\n",
       "      <td>161.293068</td>\n",
       "    </tr>\n",
       "  </tbody>\n",
       "</table>\n",
       "</div>"
      ],
      "text/plain": [
       "       Country  Year of birth  Sex      altura\n",
       "0  Afghanistan           1896  Men  161.164095\n",
       "1  Afghanistan           1897  Men  161.196286\n",
       "2  Afghanistan           1898  Men  161.228297\n",
       "3  Afghanistan           1899  Men  161.260727\n",
       "4  Afghanistan           1900  Men  161.293068"
      ]
     },
     "execution_count": 8,
     "metadata": {},
     "output_type": "execute_result"
    }
   ],
   "source": [
    "columns = [\"Country\", \"Year of birth\", \"Sex\", \"altura\"]\n",
    "df = df.loc[:,columns]\n",
    "js, js_men, js_women = {}, {}, {}\n",
    "for i, year in enumerate(df[\"Year of birth\"]):\n",
    "    try:\n",
    "        js[str(year)].append(df.loc[i,\"altura\"])\n",
    "    except Exception:\n",
    "        js[str(year)] = [df.loc[i,\"altura\"]]\n",
    "    if df.loc[i,\"Sex\"] == \"Men\":\n",
    "        try:\n",
    "            js_men[str(year)].append(df.loc[i,\"altura\"])\n",
    "        except Exception:\n",
    "            js_men[str(year)] = [df.loc[i,\"altura\"]]\n",
    "    else:\n",
    "        try:\n",
    "            js_women[str(year)].append(df.loc[i,\"altura\"])\n",
    "        except Exception:\n",
    "            js_women[str(year)] = [df.loc[i,\"altura\"]]\n",
    "js_mean, js_men_mean, js_women_mean = {}, {}, {}\n",
    "for ano in js.keys():\n",
    "    js_mean[ano] = np.mean(js[ano])\n",
    "for ano in js_men.keys():\n",
    "    js_men_mean[ano] = np.mean(js_men[ano])\n",
    "for ano in js_women.keys():\n",
    "    js_women_mean[ano] = np.mean(js_women[ano])\n",
    "    \n",
    "#pprint(js)\n",
    "#pprint(js_mean)\n",
    "df.head()\n"
   ]
  },
  {
   "cell_type": "code",
   "execution_count": 9,
   "metadata": {},
   "outputs": [
    {
     "data": {
      "text/plain": [
       "'altura.html'"
      ]
     },
     "execution_count": 9,
     "metadata": {},
     "output_type": "execute_result"
    }
   ],
   "source": [
    "titulo = \"Altura Mundial Promedio a través de los años\"\n",
    "\n",
    "x1 = list(js_mean.keys())\n",
    "y1 = list(js_mean.values())\n",
    "x2 = list(js_men_mean.keys())\n",
    "y2 = list(js_men_mean.values())\n",
    "x3 = list(js_women_mean.keys())\n",
    "y3 = list(js_women_mean.values())\n",
    "\n",
    "trace1 = go.Scatter(x=x1, y=y1, name='Promedio', marker=dict(color='red'))\n",
    "trace2 = go.Scatter(x=x2, y=y2, name='Hombres', marker=dict(color='blue'))\n",
    "trace3 = go.Scatter(x=x3, y=y3, name='Mujeres', marker=dict(color='black'))\n",
    "\n",
    "data = [trace1,trace2,trace3]\n",
    "\n",
    "layout = go.Layout(\n",
    "    title=titulo,\n",
    "    xaxis=dict(\n",
    "        title='Año',\n",
    "    ),\n",
    "    yaxis=dict(\n",
    "        showticklabels=True,\n",
    "        title='Altura (cm)',\n",
    "    ),\n",
    "    yaxis2=dict(\n",
    "        showticklabels=True,\n",
    "        title='Altura (cm)',\n",
    "    ),\n",
    "    yaxis3=dict(\n",
    "        showticklabels=True,\n",
    "        title='Altura (cm)',\n",
    "    )\n",
    ")\n",
    "\n",
    "fig = go.Figure(data=data, layout=layout)\n",
    "plotly.offline.plot(fig, filename='altura.html')\n"
   ]
  },
  {
   "cell_type": "code",
   "execution_count": null,
   "metadata": {},
   "outputs": [],
   "source": []
  }
 ],
 "metadata": {
  "kernelspec": {
   "display_name": "Python 3",
   "language": "python",
   "name": "python3"
  },
  "language_info": {
   "codemirror_mode": {
    "name": "ipython",
    "version": 3
   },
   "file_extension": ".py",
   "mimetype": "text/x-python",
   "name": "python",
   "nbconvert_exporter": "python",
   "pygments_lexer": "ipython3",
   "version": "3.7.5rc1"
  }
 },
 "nbformat": 4,
 "nbformat_minor": 2
}
